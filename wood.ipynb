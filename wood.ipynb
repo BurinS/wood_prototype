{
 "cells": [
  {
   "cell_type": "code",
   "execution_count": 1,
   "metadata": {},
   "outputs": [],
   "source": [
    "from tensorflow import keras\n",
    "\n",
    "from fastai.vision.widgets import *\n",
    "from fastai.vision.all import *"
   ]
  },
  {
   "cell_type": "code",
   "execution_count": 8,
   "metadata": {},
   "outputs": [
    {
     "name": "stdout",
     "output_type": "stream",
     "text": [
      "Requirement already satisfied: voila in /Users/boyburin/boyburin/anaconda3/envs/ai-dev/lib/python3.8/site-packages (0.2.7)\n",
      "Requirement already satisfied: jupyter-client<7,>=6.1.3 in /Users/boyburin/boyburin/anaconda3/envs/ai-dev/lib/python3.8/site-packages (from voila) (6.1.12)\n",
      "Requirement already satisfied: nbclient<0.6,>=0.4.0 in /Users/boyburin/boyburin/anaconda3/envs/ai-dev/lib/python3.8/site-packages (from voila) (0.5.3)\n",
      "Requirement already satisfied: jupyter-server<2.0.0,>=0.3.0 in /Users/boyburin/boyburin/anaconda3/envs/ai-dev/lib/python3.8/site-packages (from voila) (1.4.1)\n",
      "Requirement already satisfied: nbconvert<7,>=6.0.0 in /Users/boyburin/boyburin/anaconda3/envs/ai-dev/lib/python3.8/site-packages (from voila) (6.0.7)\n",
      "Requirement already satisfied: python-dateutil>=2.1 in /Users/boyburin/boyburin/anaconda3/envs/ai-dev/lib/python3.8/site-packages (from jupyter-client<7,>=6.1.3->voila) (2.8.1)\n",
      "Requirement already satisfied: traitlets in /Users/boyburin/boyburin/anaconda3/envs/ai-dev/lib/python3.8/site-packages (from jupyter-client<7,>=6.1.3->voila) (5.0.5)\n",
      "Requirement already satisfied: pyzmq>=13 in /Users/boyburin/boyburin/anaconda3/envs/ai-dev/lib/python3.8/site-packages (from jupyter-client<7,>=6.1.3->voila) (22.0.3)\n",
      "Requirement already satisfied: tornado>=4.1 in /Users/boyburin/boyburin/anaconda3/envs/ai-dev/lib/python3.8/site-packages (from jupyter-client<7,>=6.1.3->voila) (6.1)\n",
      "Requirement already satisfied: jupyter-core>=4.6.0 in /Users/boyburin/boyburin/anaconda3/envs/ai-dev/lib/python3.8/site-packages (from jupyter-client<7,>=6.1.3->voila) (4.7.1)\n",
      "Requirement already satisfied: Send2Trash in /Users/boyburin/boyburin/anaconda3/envs/ai-dev/lib/python3.8/site-packages (from jupyter-server<2.0.0,>=0.3.0->voila) (1.5.0)\n",
      "Requirement already satisfied: ipython-genutils in /Users/boyburin/boyburin/anaconda3/envs/ai-dev/lib/python3.8/site-packages (from jupyter-server<2.0.0,>=0.3.0->voila) (0.2.0)\n",
      "Requirement already satisfied: prometheus-client in /Users/boyburin/boyburin/anaconda3/envs/ai-dev/lib/python3.8/site-packages (from jupyter-server<2.0.0,>=0.3.0->voila) (0.9.0)\n",
      "Requirement already satisfied: nbformat in /Users/boyburin/boyburin/anaconda3/envs/ai-dev/lib/python3.8/site-packages (from jupyter-server<2.0.0,>=0.3.0->voila) (5.1.2)\n",
      "Requirement already satisfied: terminado>=0.8.3 in /Users/boyburin/boyburin/anaconda3/envs/ai-dev/lib/python3.8/site-packages (from jupyter-server<2.0.0,>=0.3.0->voila) (0.9.3)\n",
      "Requirement already satisfied: jinja2 in /Users/boyburin/boyburin/anaconda3/envs/ai-dev/lib/python3.8/site-packages (from jupyter-server<2.0.0,>=0.3.0->voila) (2.11.3)\n",
      "Requirement already satisfied: anyio>=2.0.2 in /Users/boyburin/boyburin/anaconda3/envs/ai-dev/lib/python3.8/site-packages (from jupyter-server<2.0.0,>=0.3.0->voila) (2.2.0)\n",
      "Requirement already satisfied: sniffio>=1.1 in /Users/boyburin/boyburin/anaconda3/envs/ai-dev/lib/python3.8/site-packages (from anyio>=2.0.2->jupyter-server<2.0.0,>=0.3.0->voila) (1.2.0)\n",
      "Requirement already satisfied: idna>=2.8 in /Users/boyburin/boyburin/anaconda3/envs/ai-dev/lib/python3.8/site-packages (from anyio>=2.0.2->jupyter-server<2.0.0,>=0.3.0->voila) (2.10)\n",
      "Requirement already satisfied: async-generator in /Users/boyburin/boyburin/anaconda3/envs/ai-dev/lib/python3.8/site-packages (from nbclient<0.6,>=0.4.0->voila) (1.10)\n",
      "Requirement already satisfied: nest-asyncio in /Users/boyburin/boyburin/anaconda3/envs/ai-dev/lib/python3.8/site-packages (from nbclient<0.6,>=0.4.0->voila) (1.5.1)\n",
      "Requirement already satisfied: jupyterlab-pygments in /Users/boyburin/boyburin/anaconda3/envs/ai-dev/lib/python3.8/site-packages (from nbconvert<7,>=6.0.0->voila) (0.1.2)\n",
      "Requirement already satisfied: mistune<2,>=0.8.1 in /Users/boyburin/boyburin/anaconda3/envs/ai-dev/lib/python3.8/site-packages (from nbconvert<7,>=6.0.0->voila) (0.8.4)\n",
      "Requirement already satisfied: pandocfilters>=1.4.1 in /Users/boyburin/boyburin/anaconda3/envs/ai-dev/lib/python3.8/site-packages (from nbconvert<7,>=6.0.0->voila) (1.4.3)\n",
      "Requirement already satisfied: entrypoints>=0.2.2 in /Users/boyburin/boyburin/anaconda3/envs/ai-dev/lib/python3.8/site-packages (from nbconvert<7,>=6.0.0->voila) (0.3)\n",
      "Requirement already satisfied: defusedxml in /Users/boyburin/boyburin/anaconda3/envs/ai-dev/lib/python3.8/site-packages (from nbconvert<7,>=6.0.0->voila) (0.7.1)\n",
      "Requirement already satisfied: testpath in /Users/boyburin/boyburin/anaconda3/envs/ai-dev/lib/python3.8/site-packages (from nbconvert<7,>=6.0.0->voila) (0.4.4)\n",
      "Requirement already satisfied: pygments>=2.4.1 in /Users/boyburin/boyburin/anaconda3/envs/ai-dev/lib/python3.8/site-packages (from nbconvert<7,>=6.0.0->voila) (2.8.1)\n",
      "Requirement already satisfied: bleach in /Users/boyburin/boyburin/anaconda3/envs/ai-dev/lib/python3.8/site-packages (from nbconvert<7,>=6.0.0->voila) (3.3.0)\n",
      "Requirement already satisfied: MarkupSafe>=0.23 in /Users/boyburin/boyburin/anaconda3/envs/ai-dev/lib/python3.8/site-packages (from jinja2->jupyter-server<2.0.0,>=0.3.0->voila) (1.1.1)\n",
      "Requirement already satisfied: jsonschema!=2.5.0,>=2.4 in /Users/boyburin/boyburin/anaconda3/envs/ai-dev/lib/python3.8/site-packages (from nbformat->jupyter-server<2.0.0,>=0.3.0->voila) (3.2.0)\n",
      "Requirement already satisfied: six>=1.11.0 in /Users/boyburin/boyburin/anaconda3/envs/ai-dev/lib/python3.8/site-packages (from jsonschema!=2.5.0,>=2.4->nbformat->jupyter-server<2.0.0,>=0.3.0->voila) (1.15.0)\n",
      "Requirement already satisfied: pyrsistent>=0.14.0 in /Users/boyburin/boyburin/anaconda3/envs/ai-dev/lib/python3.8/site-packages (from jsonschema!=2.5.0,>=2.4->nbformat->jupyter-server<2.0.0,>=0.3.0->voila) (0.17.3)\n",
      "Requirement already satisfied: attrs>=17.4.0 in /Users/boyburin/boyburin/anaconda3/envs/ai-dev/lib/python3.8/site-packages (from jsonschema!=2.5.0,>=2.4->nbformat->jupyter-server<2.0.0,>=0.3.0->voila) (20.3.0)\n",
      "Requirement already satisfied: setuptools in /Users/boyburin/boyburin/anaconda3/envs/ai-dev/lib/python3.8/site-packages (from jsonschema!=2.5.0,>=2.4->nbformat->jupyter-server<2.0.0,>=0.3.0->voila) (52.0.0.post20210125)\n",
      "Requirement already satisfied: ptyprocess in /Users/boyburin/boyburin/anaconda3/envs/ai-dev/lib/python3.8/site-packages (from terminado>=0.8.3->jupyter-server<2.0.0,>=0.3.0->voila) (0.7.0)\n",
      "Requirement already satisfied: webencodings in /Users/boyburin/boyburin/anaconda3/envs/ai-dev/lib/python3.8/site-packages (from bleach->nbconvert<7,>=6.0.0->voila) (0.5.1)\n",
      "Requirement already satisfied: packaging in /Users/boyburin/boyburin/anaconda3/envs/ai-dev/lib/python3.8/site-packages (from bleach->nbconvert<7,>=6.0.0->voila) (20.9)\n",
      "Requirement already satisfied: pyparsing>=2.0.2 in /Users/boyburin/boyburin/anaconda3/envs/ai-dev/lib/python3.8/site-packages (from packaging->bleach->nbconvert<7,>=6.0.0->voila) (2.4.7)\n",
      "Enabling: voila\n",
      "- Writing config: /Users/boyburin/boyburin/anaconda3/envs/ai-dev/etc/jupyter\n",
      "    - Validating...\n",
      "      voila 0.2.7 \u001b[32mOK\u001b[0m\n"
     ]
    }
   ],
   "source": [
    "! pip install voila\n",
    "! jupyter serverextension enable voila --sys-prefix"
   ]
  },
  {
   "cell_type": "markdown",
   "metadata": {},
   "source": [
    "# Wood Detection\n",
    "\n",
    "เรามาตรวจจับประเภทของต้นไม้กันดีกว่า ทุกคน!"
   ]
  },
  {
   "cell_type": "code",
   "execution_count": 2,
   "metadata": {},
   "outputs": [],
   "source": [
    "path = Path()"
   ]
  },
  {
   "cell_type": "code",
   "execution_count": 3,
   "metadata": {},
   "outputs": [],
   "source": [
    "#model = keras.models.load_model(path/\"saved_model/\")"
   ]
  },
  {
   "cell_type": "code",
   "execution_count": 4,
   "metadata": {},
   "outputs": [],
   "source": [
    "btn_upload = widgets.FileUpload()\n",
    "btn_run = widgets.Button(description=\"Classify\")\n",
    "output_image = widgets.Output()\n",
    "output_label = widgets.Label()"
   ]
  },
  {
   "cell_type": "code",
   "execution_count": 5,
   "metadata": {},
   "outputs": [],
   "source": [
    "def on_click_classify_button(change):\n",
    "    image = PILImage.create(btn_upload.data[-1])\n",
    "    output_image.clear_output()\n",
    "    with output_image:\n",
    "        display(image.to_thumb(128, 128))\n",
    "        \n",
    "    #pred = model.predict(np.expand_dims(array(image.resize((150, 150))), axis=0))\n",
    "    pred = 0\n",
    "    output_label.value = f\"Prediction Probability: {pred[0][0]}\"    "
   ]
  },
  {
   "cell_type": "code",
   "execution_count": 6,
   "metadata": {},
   "outputs": [],
   "source": [
    "btn_run.on_click(on_click_classify_button)"
   ]
  },
  {
   "cell_type": "code",
   "execution_count": 7,
   "metadata": {},
   "outputs": [
    {
     "data": {
      "application/vnd.jupyter.widget-view+json": {
       "model_id": "f74275d84dd84ac78c63a270305ba530",
       "version_major": 2,
       "version_minor": 0
      },
      "text/plain": [
       "VBox(children=(Label(value=\"Select your Wood! and Let's Enjoy.\"), FileUpload(value={}, description='Upload'), …"
      ]
     },
     "metadata": {},
     "output_type": "display_data"
    }
   ],
   "source": [
    "VBox([widgets.Label(\"Select your Wood! and Let's Enjoy.\"), btn_upload, btn_run, output_image, output_label])"
   ]
  }
 ],
 "metadata": {
  "kernelspec": {
   "display_name": "Python 3",
   "language": "python",
   "name": "python3"
  },
  "language_info": {
   "codemirror_mode": {
    "name": "ipython",
    "version": 3
   },
   "file_extension": ".py",
   "mimetype": "text/x-python",
   "name": "python",
   "nbconvert_exporter": "python",
   "pygments_lexer": "ipython3",
   "version": "3.8.8"
  }
 },
 "nbformat": 4,
 "nbformat_minor": 2
}
